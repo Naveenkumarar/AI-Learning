{
 "cells": [
  {
   "cell_type": "code",
   "execution_count": 36,
   "metadata": {},
   "outputs": [],
   "source": [
    "import matplotlib.pyplot as plt\n",
    "import numpy as np"
   ]
  },
  {
   "cell_type": "code",
   "execution_count": 37,
   "metadata": {},
   "outputs": [],
   "source": [
    "#initial Values\n",
    "\n",
    "iter = 10000\n",
    "EPS = 0.1\n",
    "banditProb = [0.2,0.5,0.75]"
   ]
  },
  {
   "cell_type": "code",
   "execution_count": 39,
   "metadata": {},
   "outputs": [],
   "source": [
    "class Casino:\n",
    "    def __init__(self,p) :\n",
    "        self.p = p\n",
    "        self.p_estimate = 0.\n",
    "        self.N = 0.\n",
    "\n",
    "\n",
    "    def pull(self):\n",
    "        return np.random.random() < self.p\n",
    "\n",
    "    def update(self,x):\n",
    "        self.N += 1\n",
    "        self.p_estimate = self.p_estimate + (x- self.p_estimate) / self.N"
   ]
  },
  {
   "cell_type": "code",
   "execution_count": 54,
   "metadata": {},
   "outputs": [],
   "source": [
    "def experiment():\n",
    "    casinos = [Casino(p) for p in banditProb]\n",
    "\n",
    "    rewards = np.zeros(iter)\n",
    "    explored = 0\n",
    "    exploit = 0\n",
    "    optimal = 0\n",
    "\n",
    "    optimal_j = np.argmax([b.p for b in casinos])\n",
    "    print(\"optimal j:\",optimal_j)\n",
    "\n",
    "    for i in range(iter):\n",
    "\n",
    "        if np.random.random() < EPS :\n",
    "            explored +=1\n",
    "            j = np.random.randint(len(casinos))\n",
    "        else:\n",
    "            exploit +=1\n",
    "            j = np.argmax([b.p_estimate for b in casinos])\n",
    "\n",
    "        if j == optimal_j:\n",
    "            optimal += 1\n",
    "\n",
    "        x = casinos[j].pull()\n",
    "\n",
    "        rewards[i] = x\n",
    "        casinos[j].update(x)\n",
    "\n",
    "    for c in casinos:\n",
    "        print(\"mean estimate:\",c.p_estimate)\n",
    "\n",
    "    print(\"total rewards :\", rewards.sum())\n",
    "\n",
    "    print(\"win rate :\", rewards.sum()/iter)\n",
    "\n",
    "    print(\"Explored :\",explored)\n",
    "\n",
    "    print(\"Exploited :\",exploit)\n",
    "\n",
    "    print(\"Optimal :\",optimal)\n",
    "\n",
    "    #plot result\n",
    "    cum_reward = np.cumsum(rewards)\n",
    "    win_rate = cum_reward / (np.arange(iter)+1)\n",
    "\n",
    "    plt.plot(win_rate)\n",
    "    plt.plot(np.ones(iter)*np.max(banditProb))\n",
    "    plt.show()"
   ]
  },
  {
   "cell_type": "code",
   "execution_count": 55,
   "metadata": {},
   "outputs": [
    {
     "name": "stdout",
     "output_type": "stream",
     "text": [
      "optimal j: 2\n",
      "mean estimate: 0.22651933701657467\n",
      "mean estimate: 0.4835164835164833\n",
      "mean estimate: 0.7579253827905977\n",
      "total rewards : 7287.0\n",
      "win rate : 0.7287\n",
      "Explored : 1036\n",
      "Exploited : 8964\n",
      "Optimal : 9274\n"
     ]
    },
    {
     "data": {
      "image/png": "[encoded data removed]",
      "text/plain": [
       "<Figure size 640x480 with 1 Axes>"
      ]
     },
     "metadata": {},
     "output_type": "display_data"
    }
   ],
   "source": [
    "\n",
    "if __name__ == \"__main__\":\n",
    "    experiment()\n"
   ]
  }
 ],
 "metadata": {
  "kernelspec": {
   "display_name": "Python 3",
   "language": "python",
   "name": "python3"
  },
  "language_info": {
   "codemirror_mode": {
    "name": "ipython",
    "version": 3
   },
   "file_extension": ".py",
   "mimetype": "text/x-python",
   "name": "python",
   "nbconvert_exporter": "python",
   "pygments_lexer": "ipython3",
   "version": "3.9.6"
  }
 },
 "nbformat": 4,
 "nbformat_minor": 2
}
